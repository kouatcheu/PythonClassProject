{
 "cells": [
  {
   "cell_type": "markdown",
   "metadata": {},
   "source": [
    "I have two data sets in CSV format:\n",
    "1. XP Thyroid Project - Which contains a the information of XP patients in our cohort that received a Thyroid UltraSound test\n",
    "1. XP Thyroid Project2- Which contains the number of nodules and the TI-RADS score of each nodule that patients with abnormal thyroid gland had.\n",
    "\n",
    "In this document, I will be presenting graphs and tables that summarise my research findings."
   ]
  },
  {
   "cell_type": "code",
   "execution_count": 2,
   "metadata": {},
   "outputs": [
    {
     "name": "stdout",
     "output_type": "stream",
     "text": [
      "C:\\Users\\Owner\\PythonClassProject\n"
     ]
    }
   ],
   "source": [
    "%cd PythonClassProject"
   ]
  },
  {
   "cell_type": "code",
   "execution_count": 3,
   "metadata": {},
   "outputs": [
    {
     "name": "stdout",
     "output_type": "stream",
     "text": [
      "C:\\Users\\Owner\\PythonClassProject\\data\n"
     ]
    }
   ],
   "source": [
    "%cd data"
   ]
  },
  {
   "cell_type": "code",
   "execution_count": 4,
   "metadata": {},
   "outputs": [
    {
     "name": "stdout",
     "output_type": "stream",
     "text": [
      "Collecting package metadata (current_repodata.json): ...working... done\n",
      "Solving environment: ...working... done\n",
      "\n",
      "## Package Plan ##\n",
      "\n",
      "  environment location: C:\\Users\\Owner\\Anaconda3\n",
      "\n",
      "  added / updated specs:\n",
      "    - matplotlib\n",
      "\n",
      "\n",
      "The following packages will be downloaded:\n",
      "\n",
      "    package                    |            build\n",
      "    ---------------------------|-----------------\n",
      "    certifi-2019.11.28         |           py37_0         148 KB  conda-forge\n",
      "    conda-4.8.0                |           py37_0         3.0 MB  conda-forge\n",
      "    ------------------------------------------------------------\n",
      "                                           Total:         3.2 MB\n",
      "\n",
      "The following packages will be UPDATED:\n",
      "\n",
      "  ca-certificates    pkgs/main::ca-certificates-2019.11.27~ --> conda-forge::ca-certificates-2019.11.28-hecc5488_0\n",
      "\n",
      "The following packages will be SUPERSEDED by a higher-priority channel:\n",
      "\n",
      "  certifi                                         pkgs/main --> conda-forge\n",
      "  conda                                           pkgs/main --> conda-forge\n",
      "\n",
      "\n",
      "\n",
      "Downloading and Extracting Packages\n",
      "\n",
      "certifi-2019.11.28   | 148 KB    |            |   0% \n",
      "certifi-2019.11.28   | 148 KB    | #          |  11% \n",
      "certifi-2019.11.28   | 148 KB    | ########## | 100% \n",
      "\n",
      "conda-4.8.0          | 3.0 MB    |            |   0% \n",
      "conda-4.8.0          | 3.0 MB    | #          |  10% \n",
      "conda-4.8.0          | 3.0 MB    | ##9        |  29% \n",
      "conda-4.8.0          | 3.0 MB    | ####9      |  49% \n",
      "conda-4.8.0          | 3.0 MB    | ######8    |  69% \n",
      "conda-4.8.0          | 3.0 MB    | ########9  |  89% \n",
      "conda-4.8.0          | 3.0 MB    | ########## | 100% \n",
      "Preparing transaction: ...working... done\n",
      "Verifying transaction: ...working... done\n",
      "Executing transaction: ...working... done\n",
      "\n",
      "Note: you may need to restart the kernel to use updated packages.\n"
     ]
    }
   ],
   "source": [
    "conda install -c conda-forge matplotlib"
   ]
  },
  {
   "cell_type": "code",
   "execution_count": 6,
   "metadata": {},
   "outputs": [],
   "source": [
    "import pandas as pd\n",
    "%matplotlib inline\n",
    "from matplotlib import pyplot as plt\n",
    "import numpy as np"
   ]
  },
  {
   "cell_type": "code",
   "execution_count": 7,
   "metadata": {},
   "outputs": [],
   "source": [
    "xp_thyroid_USpatients = pd.read_csv('XP Thyroid Project.csv')  #Read the CSV and load it into a data frame"
   ]
  },
  {
   "cell_type": "code",
   "execution_count": 8,
   "metadata": {},
   "outputs": [
    {
     "data": {
      "text/plain": [
       "Index(['ID Number', 'Race', 'Ethnic Group', 'Gender',\n",
       "       'Age (yrs)- At time of diagnosis', 'Complimentation Group',\n",
       "       'Ultrasound abnormalities', 'Unnamed: 7'],\n",
       "      dtype='object')"
      ]
     },
     "execution_count": 8,
     "metadata": {},
     "output_type": "execute_result"
    }
   ],
   "source": [
    "xp_thyroid_USpatients.columns  #To view columns in the dataframe"
   ]
  },
  {
   "cell_type": "code",
   "execution_count": 9,
   "metadata": {},
   "outputs": [
    {
     "data": {
      "text/html": [
       "<div>\n",
       "<style scoped>\n",
       "    .dataframe tbody tr th:only-of-type {\n",
       "        vertical-align: middle;\n",
       "    }\n",
       "\n",
       "    .dataframe tbody tr th {\n",
       "        vertical-align: top;\n",
       "    }\n",
       "\n",
       "    .dataframe thead th {\n",
       "        text-align: right;\n",
       "    }\n",
       "</style>\n",
       "<table border=\"1\" class=\"dataframe\">\n",
       "  <thead>\n",
       "    <tr style=\"text-align: right;\">\n",
       "      <th></th>\n",
       "      <th>ID Number</th>\n",
       "      <th>Race</th>\n",
       "      <th>Ethnic Group</th>\n",
       "      <th>Gender</th>\n",
       "      <th>Age (yrs)- At time of diagnosis</th>\n",
       "      <th>Complimentation Group</th>\n",
       "      <th>Ultrasound abnormalities</th>\n",
       "      <th>Unnamed: 7</th>\n",
       "    </tr>\n",
       "  </thead>\n",
       "  <tbody>\n",
       "    <tr>\n",
       "      <td>0</td>\n",
       "      <td>XP86BE</td>\n",
       "      <td>White</td>\n",
       "      <td>Not Hispanic or Latino</td>\n",
       "      <td>Female</td>\n",
       "      <td>64</td>\n",
       "      <td>C</td>\n",
       "      <td>NO</td>\n",
       "      <td>NaN</td>\n",
       "    </tr>\n",
       "    <tr>\n",
       "      <td>1</td>\n",
       "      <td>XP451AN</td>\n",
       "      <td>White</td>\n",
       "      <td>Not Hispanic or Latino</td>\n",
       "      <td>Female</td>\n",
       "      <td>27</td>\n",
       "      <td>NaN</td>\n",
       "      <td>YES</td>\n",
       "      <td>NaN</td>\n",
       "    </tr>\n",
       "    <tr>\n",
       "      <td>2</td>\n",
       "      <td>XP576BE</td>\n",
       "      <td>Asian</td>\n",
       "      <td>Not Hispanic or Latino</td>\n",
       "      <td>Male</td>\n",
       "      <td>22</td>\n",
       "      <td>C</td>\n",
       "      <td>YES</td>\n",
       "      <td>NaN</td>\n",
       "    </tr>\n",
       "    <tr>\n",
       "      <td>3</td>\n",
       "      <td>XP415BE</td>\n",
       "      <td>White</td>\n",
       "      <td>Not Hispanic or Latino</td>\n",
       "      <td>Female</td>\n",
       "      <td>25</td>\n",
       "      <td>C</td>\n",
       "      <td>YES</td>\n",
       "      <td>NaN</td>\n",
       "    </tr>\n",
       "    <tr>\n",
       "      <td>4</td>\n",
       "      <td>XP198</td>\n",
       "      <td>White</td>\n",
       "      <td>Not Hispanic or Latino</td>\n",
       "      <td>Female</td>\n",
       "      <td>20</td>\n",
       "      <td>C</td>\n",
       "      <td>YES</td>\n",
       "      <td>NaN</td>\n",
       "    </tr>\n",
       "  </tbody>\n",
       "</table>\n",
       "</div>"
      ],
      "text/plain": [
       "  ID Number   Race            Ethnic Group  Gender  \\\n",
       "0    XP86BE  White  Not Hispanic or Latino  Female   \n",
       "1   XP451AN  White  Not Hispanic or Latino  Female   \n",
       "2   XP576BE  Asian  Not Hispanic or Latino    Male   \n",
       "3   XP415BE  White  Not Hispanic or Latino  Female   \n",
       "4     XP198  White  Not Hispanic or Latino  Female   \n",
       "\n",
       "   Age (yrs)- At time of diagnosis Complimentation Group  \\\n",
       "0                               64                     C   \n",
       "1                               27                   NaN   \n",
       "2                               22                     C   \n",
       "3                               25                     C   \n",
       "4                               20                     C   \n",
       "\n",
       "  Ultrasound abnormalities  Unnamed: 7  \n",
       "0                       NO         NaN  \n",
       "1                      YES         NaN  \n",
       "2                      YES         NaN  \n",
       "3                      YES         NaN  \n",
       "4                      YES         NaN  "
      ]
     },
     "execution_count": 9,
     "metadata": {},
     "output_type": "execute_result"
    }
   ],
   "source": [
    "xp_thyroid_USpatients.head()"
   ]
  },
  {
   "cell_type": "code",
   "execution_count": 10,
   "metadata": {},
   "outputs": [
    {
     "data": {
      "text/html": [
       "<div>\n",
       "<style scoped>\n",
       "    .dataframe tbody tr th:only-of-type {\n",
       "        vertical-align: middle;\n",
       "    }\n",
       "\n",
       "    .dataframe tbody tr th {\n",
       "        vertical-align: top;\n",
       "    }\n",
       "\n",
       "    .dataframe thead th {\n",
       "        text-align: right;\n",
       "    }\n",
       "</style>\n",
       "<table border=\"1\" class=\"dataframe\">\n",
       "  <thead>\n",
       "    <tr style=\"text-align: right;\">\n",
       "      <th></th>\n",
       "      <th>ID Number</th>\n",
       "      <th>Race</th>\n",
       "      <th>Ethnic Group</th>\n",
       "      <th>Gender</th>\n",
       "      <th>Age (yrs)- At time of diagnosis</th>\n",
       "      <th>Complimentation Group</th>\n",
       "      <th>Ultrasound abnormalities</th>\n",
       "    </tr>\n",
       "  </thead>\n",
       "  <tbody>\n",
       "    <tr>\n",
       "      <td>0</td>\n",
       "      <td>XP86BE</td>\n",
       "      <td>White</td>\n",
       "      <td>Not Hispanic or Latino</td>\n",
       "      <td>Female</td>\n",
       "      <td>64</td>\n",
       "      <td>C</td>\n",
       "      <td>NO</td>\n",
       "    </tr>\n",
       "    <tr>\n",
       "      <td>1</td>\n",
       "      <td>XP451AN</td>\n",
       "      <td>White</td>\n",
       "      <td>Not Hispanic or Latino</td>\n",
       "      <td>Female</td>\n",
       "      <td>27</td>\n",
       "      <td>NaN</td>\n",
       "      <td>YES</td>\n",
       "    </tr>\n",
       "    <tr>\n",
       "      <td>2</td>\n",
       "      <td>XP576BE</td>\n",
       "      <td>Asian</td>\n",
       "      <td>Not Hispanic or Latino</td>\n",
       "      <td>Male</td>\n",
       "      <td>22</td>\n",
       "      <td>C</td>\n",
       "      <td>YES</td>\n",
       "    </tr>\n",
       "    <tr>\n",
       "      <td>3</td>\n",
       "      <td>XP415BE</td>\n",
       "      <td>White</td>\n",
       "      <td>Not Hispanic or Latino</td>\n",
       "      <td>Female</td>\n",
       "      <td>25</td>\n",
       "      <td>C</td>\n",
       "      <td>YES</td>\n",
       "    </tr>\n",
       "    <tr>\n",
       "      <td>4</td>\n",
       "      <td>XP198</td>\n",
       "      <td>White</td>\n",
       "      <td>Not Hispanic or Latino</td>\n",
       "      <td>Female</td>\n",
       "      <td>20</td>\n",
       "      <td>C</td>\n",
       "      <td>YES</td>\n",
       "    </tr>\n",
       "  </tbody>\n",
       "</table>\n",
       "</div>"
      ],
      "text/plain": [
       "  ID Number   Race            Ethnic Group  Gender  \\\n",
       "0    XP86BE  White  Not Hispanic or Latino  Female   \n",
       "1   XP451AN  White  Not Hispanic or Latino  Female   \n",
       "2   XP576BE  Asian  Not Hispanic or Latino    Male   \n",
       "3   XP415BE  White  Not Hispanic or Latino  Female   \n",
       "4     XP198  White  Not Hispanic or Latino  Female   \n",
       "\n",
       "   Age (yrs)- At time of diagnosis Complimentation Group  \\\n",
       "0                               64                     C   \n",
       "1                               27                   NaN   \n",
       "2                               22                     C   \n",
       "3                               25                     C   \n",
       "4                               20                     C   \n",
       "\n",
       "  Ultrasound abnormalities  \n",
       "0                       NO  \n",
       "1                      YES  \n",
       "2                      YES  \n",
       "3                      YES  \n",
       "4                      YES  "
      ]
     },
     "execution_count": 10,
     "metadata": {},
     "output_type": "execute_result"
    }
   ],
   "source": [
    "xp_thyroid_USpatients.drop('Unnamed: 7', axis=1).head()"
   ]
  },
  {
   "cell_type": "code",
   "execution_count": 11,
   "metadata": {},
   "outputs": [],
   "source": [
    "xp_thyroid_nodules= pd.read_csv('XP Thyroid Project2.csv')"
   ]
  },
  {
   "cell_type": "code",
   "execution_count": 12,
   "metadata": {},
   "outputs": [
    {
     "data": {
      "text/plain": [
       "Index(['ID Number', 'Number of Nodules', 'TI-RADS Score '], dtype='object')"
      ]
     },
     "execution_count": 12,
     "metadata": {},
     "output_type": "execute_result"
    }
   ],
   "source": [
    "xp_thyroid_nodules.columns"
   ]
  },
  {
   "cell_type": "code",
   "execution_count": 13,
   "metadata": {},
   "outputs": [
    {
     "data": {
      "text/html": [
       "<div>\n",
       "<style scoped>\n",
       "    .dataframe tbody tr th:only-of-type {\n",
       "        vertical-align: middle;\n",
       "    }\n",
       "\n",
       "    .dataframe tbody tr th {\n",
       "        vertical-align: top;\n",
       "    }\n",
       "\n",
       "    .dataframe thead th {\n",
       "        text-align: right;\n",
       "    }\n",
       "</style>\n",
       "<table border=\"1\" class=\"dataframe\">\n",
       "  <thead>\n",
       "    <tr style=\"text-align: right;\">\n",
       "      <th></th>\n",
       "      <th>ID Number</th>\n",
       "      <th>Number of Nodules</th>\n",
       "      <th>TI-RADS Score</th>\n",
       "    </tr>\n",
       "  </thead>\n",
       "  <tbody>\n",
       "    <tr>\n",
       "      <td>0</td>\n",
       "      <td>XP224BE</td>\n",
       "      <td>1</td>\n",
       "      <td>4</td>\n",
       "    </tr>\n",
       "    <tr>\n",
       "      <td>1</td>\n",
       "      <td>XP572BE</td>\n",
       "      <td>2</td>\n",
       "      <td>3\\n2</td>\n",
       "    </tr>\n",
       "    <tr>\n",
       "      <td>2</td>\n",
       "      <td>XP415BE</td>\n",
       "      <td>3</td>\n",
       "      <td>4\\n5\\n5</td>\n",
       "    </tr>\n",
       "    <tr>\n",
       "      <td>3</td>\n",
       "      <td>XP516BE</td>\n",
       "      <td>2</td>\n",
       "      <td>4\\n4</td>\n",
       "    </tr>\n",
       "    <tr>\n",
       "      <td>4</td>\n",
       "      <td>XP580BE</td>\n",
       "      <td>2</td>\n",
       "      <td>2\\n2</td>\n",
       "    </tr>\n",
       "  </tbody>\n",
       "</table>\n",
       "</div>"
      ],
      "text/plain": [
       "  ID Number  Number of Nodules TI-RADS Score \n",
       "0   XP224BE                  1              4\n",
       "1   XP572BE                  2           3\\n2\n",
       "2   XP415BE                  3        4\\n5\\n5\n",
       "3   XP516BE                  2           4\\n4\n",
       "4   XP580BE                  2           2\\n2"
      ]
     },
     "execution_count": 13,
     "metadata": {},
     "output_type": "execute_result"
    }
   ],
   "source": [
    "xp_thyroid_nodules.head()"
   ]
  },
  {
   "cell_type": "markdown",
   "metadata": {},
   "source": [
    "Now, I will choose patients from the xp_thyroid_USpatients object who had ultrasound abnormalities"
   ]
  },
  {
   "cell_type": "code",
   "execution_count": 14,
   "metadata": {},
   "outputs": [],
   "source": [
    "xp_thyroid_USabnormalities = xp_thyroid_USpatients[xp_thyroid_USpatients['Ultrasound abnormalities']=='YES']"
   ]
  },
  {
   "cell_type": "code",
   "execution_count": 15,
   "metadata": {},
   "outputs": [
    {
     "data": {
      "text/html": [
       "<div>\n",
       "<style scoped>\n",
       "    .dataframe tbody tr th:only-of-type {\n",
       "        vertical-align: middle;\n",
       "    }\n",
       "\n",
       "    .dataframe tbody tr th {\n",
       "        vertical-align: top;\n",
       "    }\n",
       "\n",
       "    .dataframe thead th {\n",
       "        text-align: right;\n",
       "    }\n",
       "</style>\n",
       "<table border=\"1\" class=\"dataframe\">\n",
       "  <thead>\n",
       "    <tr style=\"text-align: right;\">\n",
       "      <th></th>\n",
       "      <th>ID Number</th>\n",
       "      <th>Race</th>\n",
       "      <th>Ethnic Group</th>\n",
       "      <th>Gender</th>\n",
       "      <th>Age (yrs)- At time of diagnosis</th>\n",
       "      <th>Complimentation Group</th>\n",
       "      <th>Ultrasound abnormalities</th>\n",
       "    </tr>\n",
       "  </thead>\n",
       "  <tbody>\n",
       "    <tr>\n",
       "      <td>1</td>\n",
       "      <td>XP451AN</td>\n",
       "      <td>White</td>\n",
       "      <td>Not Hispanic or Latino</td>\n",
       "      <td>Female</td>\n",
       "      <td>27</td>\n",
       "      <td>NaN</td>\n",
       "      <td>YES</td>\n",
       "    </tr>\n",
       "    <tr>\n",
       "      <td>2</td>\n",
       "      <td>XP576BE</td>\n",
       "      <td>Asian</td>\n",
       "      <td>Not Hispanic or Latino</td>\n",
       "      <td>Male</td>\n",
       "      <td>22</td>\n",
       "      <td>C</td>\n",
       "      <td>YES</td>\n",
       "    </tr>\n",
       "    <tr>\n",
       "      <td>3</td>\n",
       "      <td>XP415BE</td>\n",
       "      <td>White</td>\n",
       "      <td>Not Hispanic or Latino</td>\n",
       "      <td>Female</td>\n",
       "      <td>25</td>\n",
       "      <td>C</td>\n",
       "      <td>YES</td>\n",
       "    </tr>\n",
       "    <tr>\n",
       "      <td>4</td>\n",
       "      <td>XP198</td>\n",
       "      <td>White</td>\n",
       "      <td>Not Hispanic or Latino</td>\n",
       "      <td>Female</td>\n",
       "      <td>20</td>\n",
       "      <td>C</td>\n",
       "      <td>YES</td>\n",
       "    </tr>\n",
       "    <tr>\n",
       "      <td>5</td>\n",
       "      <td>XP338BE</td>\n",
       "      <td>White</td>\n",
       "      <td>Not Hispanic or Latino</td>\n",
       "      <td>Male</td>\n",
       "      <td>15</td>\n",
       "      <td>C</td>\n",
       "      <td>YES</td>\n",
       "    </tr>\n",
       "  </tbody>\n",
       "</table>\n",
       "</div>"
      ],
      "text/plain": [
       "  ID Number   Race            Ethnic Group  Gender  \\\n",
       "1   XP451AN  White  Not Hispanic or Latino  Female   \n",
       "2   XP576BE  Asian  Not Hispanic or Latino    Male   \n",
       "3   XP415BE  White  Not Hispanic or Latino  Female   \n",
       "4     XP198  White  Not Hispanic or Latino  Female   \n",
       "5   XP338BE  White  Not Hispanic or Latino    Male   \n",
       "\n",
       "   Age (yrs)- At time of diagnosis Complimentation Group  \\\n",
       "1                               27                   NaN   \n",
       "2                               22                     C   \n",
       "3                               25                     C   \n",
       "4                               20                     C   \n",
       "5                               15                     C   \n",
       "\n",
       "  Ultrasound abnormalities  \n",
       "1                      YES  \n",
       "2                      YES  \n",
       "3                      YES  \n",
       "4                      YES  \n",
       "5                      YES  "
      ]
     },
     "execution_count": 15,
     "metadata": {},
     "output_type": "execute_result"
    }
   ],
   "source": [
    "xp_thyroid_USabnormalities\n",
    "xp_thyroid_USabnormalities.drop('Unnamed: 7', axis=1).head()"
   ]
  },
  {
   "cell_type": "markdown",
   "metadata": {},
   "source": [
    "Now I need to combine the dataset of patients who had thyroid nodules to the data set containing thyroid nodule size and number"
   ]
  },
  {
   "cell_type": "code",
   "execution_count": 16,
   "metadata": {},
   "outputs": [],
   "source": [
    "xp_combine = pd.merge(xp_thyroid_USabnormalities, xp_thyroid_nodules)"
   ]
  },
  {
   "cell_type": "code",
   "execution_count": 17,
   "metadata": {},
   "outputs": [
    {
     "data": {
      "text/html": [
       "<div>\n",
       "<style scoped>\n",
       "    .dataframe tbody tr th:only-of-type {\n",
       "        vertical-align: middle;\n",
       "    }\n",
       "\n",
       "    .dataframe tbody tr th {\n",
       "        vertical-align: top;\n",
       "    }\n",
       "\n",
       "    .dataframe thead th {\n",
       "        text-align: right;\n",
       "    }\n",
       "</style>\n",
       "<table border=\"1\" class=\"dataframe\">\n",
       "  <thead>\n",
       "    <tr style=\"text-align: right;\">\n",
       "      <th></th>\n",
       "      <th>ID Number</th>\n",
       "      <th>Race</th>\n",
       "      <th>Ethnic Group</th>\n",
       "      <th>Gender</th>\n",
       "      <th>Age (yrs)- At time of diagnosis</th>\n",
       "      <th>Complimentation Group</th>\n",
       "      <th>Ultrasound abnormalities</th>\n",
       "      <th>Number of Nodules</th>\n",
       "      <th>TI-RADS Score</th>\n",
       "    </tr>\n",
       "  </thead>\n",
       "  <tbody>\n",
       "    <tr>\n",
       "      <td>0</td>\n",
       "      <td>XP451AN</td>\n",
       "      <td>White</td>\n",
       "      <td>Not Hispanic or Latino</td>\n",
       "      <td>Female</td>\n",
       "      <td>27</td>\n",
       "      <td>NaN</td>\n",
       "      <td>YES</td>\n",
       "      <td>3</td>\n",
       "      <td>4\\n4\\n4</td>\n",
       "    </tr>\n",
       "    <tr>\n",
       "      <td>1</td>\n",
       "      <td>XP576BE</td>\n",
       "      <td>Asian</td>\n",
       "      <td>Not Hispanic or Latino</td>\n",
       "      <td>Male</td>\n",
       "      <td>22</td>\n",
       "      <td>C</td>\n",
       "      <td>YES</td>\n",
       "      <td>4</td>\n",
       "      <td>2\\n2\\n3\\n4</td>\n",
       "    </tr>\n",
       "    <tr>\n",
       "      <td>2</td>\n",
       "      <td>XP415BE</td>\n",
       "      <td>White</td>\n",
       "      <td>Not Hispanic or Latino</td>\n",
       "      <td>Female</td>\n",
       "      <td>25</td>\n",
       "      <td>C</td>\n",
       "      <td>YES</td>\n",
       "      <td>3</td>\n",
       "      <td>4\\n5\\n5</td>\n",
       "    </tr>\n",
       "    <tr>\n",
       "      <td>3</td>\n",
       "      <td>XP198</td>\n",
       "      <td>White</td>\n",
       "      <td>Not Hispanic or Latino</td>\n",
       "      <td>Female</td>\n",
       "      <td>20</td>\n",
       "      <td>C</td>\n",
       "      <td>YES</td>\n",
       "      <td>2</td>\n",
       "      <td>3\\n4</td>\n",
       "    </tr>\n",
       "    <tr>\n",
       "      <td>4</td>\n",
       "      <td>XP338BE</td>\n",
       "      <td>White</td>\n",
       "      <td>Not Hispanic or Latino</td>\n",
       "      <td>Male</td>\n",
       "      <td>15</td>\n",
       "      <td>C</td>\n",
       "      <td>YES</td>\n",
       "      <td>2</td>\n",
       "      <td>4\\n2</td>\n",
       "    </tr>\n",
       "  </tbody>\n",
       "</table>\n",
       "</div>"
      ],
      "text/plain": [
       "  ID Number   Race            Ethnic Group  Gender  \\\n",
       "0   XP451AN  White  Not Hispanic or Latino  Female   \n",
       "1   XP576BE  Asian  Not Hispanic or Latino    Male   \n",
       "2   XP415BE  White  Not Hispanic or Latino  Female   \n",
       "3     XP198  White  Not Hispanic or Latino  Female   \n",
       "4   XP338BE  White  Not Hispanic or Latino    Male   \n",
       "\n",
       "   Age (yrs)- At time of diagnosis Complimentation Group  \\\n",
       "0                               27                   NaN   \n",
       "1                               22                     C   \n",
       "2                               25                     C   \n",
       "3                               20                     C   \n",
       "4                               15                     C   \n",
       "\n",
       "  Ultrasound abnormalities  Number of Nodules TI-RADS Score   \n",
       "0                      YES                  3        4\\n4\\n4  \n",
       "1                      YES                  4     2\\n2\\n3\\n4  \n",
       "2                      YES                  3        4\\n5\\n5  \n",
       "3                      YES                  2           3\\n4  \n",
       "4                      YES                  2           4\\n2  "
      ]
     },
     "execution_count": 17,
     "metadata": {},
     "output_type": "execute_result"
    }
   ],
   "source": [
    "xp_combine.drop('Unnamed: 7', axis=1).head()"
   ]
  },
  {
   "cell_type": "code",
   "execution_count": 18,
   "metadata": {},
   "outputs": [
    {
     "name": "stdout",
     "output_type": "stream",
     "text": [
      "Collecting package metadata (current_repodata.json): ...working... done\n",
      "Solving environment: ...working... done\n",
      "\n",
      "## Package Plan ##\n",
      "\n",
      "  environment location: C:\\Users\\Owner\\Anaconda3\n",
      "\n",
      "  added / updated specs:\n",
      "    - seaborn\n",
      "\n",
      "\n",
      "The following packages will be downloaded:\n",
      "\n",
      "    package                    |            build\n",
      "    ---------------------------|-----------------\n",
      "    certifi-2019.11.28         |           py37_0         157 KB\n",
      "    conda-4.8.0                |           py37_0         2.8 MB\n",
      "    ------------------------------------------------------------\n",
      "                                           Total:         3.0 MB\n",
      "\n",
      "The following packages will be SUPERSEDED by a higher-priority channel:\n",
      "\n",
      "  ca-certificates    conda-forge::ca-certificates-2019.11.~ --> pkgs/main::ca-certificates-2019.11.27-0\n",
      "  certifi                                       conda-forge --> pkgs/main\n",
      "  conda                                         conda-forge --> pkgs/main\n",
      "\n",
      "\n",
      "\n",
      "Downloading and Extracting Packages\n",
      "\n",
      "certifi-2019.11.28   | 157 KB    |            |   0% \n",
      "certifi-2019.11.28   | 157 KB    | #          |  10% \n",
      "certifi-2019.11.28   | 157 KB    | ########## | 100% \n",
      "\n",
      "conda-4.8.0          | 2.8 MB    |            |   0% \n",
      "conda-4.8.0          | 2.8 MB    | #4         |  15% \n",
      "conda-4.8.0          | 2.8 MB    | ###2       |  33% \n",
      "conda-4.8.0          | 2.8 MB    | #####2     |  53% \n",
      "conda-4.8.0          | 2.8 MB    | #######5   |  75% \n",
      "conda-4.8.0          | 2.8 MB    | #########5 |  95% \n",
      "conda-4.8.0          | 2.8 MB    | ########## | 100% \n",
      "Preparing transaction: ...working... done\n",
      "Verifying transaction: ...working... done\n",
      "Executing transaction: ...working... done\n",
      "\n",
      "Note: you may need to restart the kernel to use updated packages.\n"
     ]
    }
   ],
   "source": [
    "conda install seaborn"
   ]
  },
  {
   "cell_type": "code",
   "execution_count": 22,
   "metadata": {},
   "outputs": [
    {
     "data": {
      "text/plain": [
       "ID Number                           object\n",
       "Race                                object\n",
       "Ethnic Group                        object\n",
       "Gender                              object\n",
       "Age (yrs)- At time of diagnosis      int64\n",
       "Complimentation Group               object\n",
       "Ultrasound abnormalities            object\n",
       "Unnamed: 7                         float64\n",
       "Number of Nodules                    int64\n",
       "TI-RADS Score                       object\n",
       "dtype: object"
      ]
     },
     "execution_count": 22,
     "metadata": {},
     "output_type": "execute_result"
    }
   ],
   "source": [
    "xp_combine.dtypes # To find the data types of different columns in the table"
   ]
  },
  {
   "cell_type": "code",
   "execution_count": 110,
   "metadata": {},
   "outputs": [],
   "source": [
    "xp_combine['Age (yrs)- At time of diagnosis']= xp_combine['Age (yrs)- At time of diagnosis'].astype('str')  #Converted the data type of variable 'Age (yrs)- At time of diagnosis' into an object"
   ]
  },
  {
   "cell_type": "code",
   "execution_count": 34,
   "metadata": {},
   "outputs": [
    {
     "data": {
      "text/plain": [
       "ID Number                           object\n",
       "Race                                object\n",
       "Ethnic Group                        object\n",
       "Gender                              object\n",
       "Age (yrs)- At time of diagnosis     object\n",
       "Complimentation Group               object\n",
       "Ultrasound abnormalities            object\n",
       "Unnamed: 7                         float64\n",
       "Number of Nodules                    int64\n",
       "TI-RADS Score                       object\n",
       "dtype: object"
      ]
     },
     "execution_count": 34,
     "metadata": {},
     "output_type": "execute_result"
    }
   ],
   "source": [
    "xp_combine.dtypes"
   ]
  },
  {
   "cell_type": "code",
   "execution_count": 41,
   "metadata": {},
   "outputs": [
    {
     "data": {
      "image/png": "[encoded data removed]",
      "text/plain": [
       "<Figure size 432x288 with 1 Axes>"
      ]
     },
     "metadata": {},
     "output_type": "display_data"
    }
   ],
   "source": [
    "import seaborn as sns\n",
    "sns.set(style=\"whitegrid\")\n",
    "ax = sns.barplot(x=\"Age (yrs)- At time of diagnosis\", y=\"Number of Nodules\", hue='Complimentation Group', data=xp_combine)"
   ]
  },
  {
   "cell_type": "code",
   "execution_count": 43,
   "metadata": {},
   "outputs": [
    {
     "data": {
      "text/plain": [
       "0     NaN\n",
       "1       C\n",
       "2       C\n",
       "3       C\n",
       "4       C\n",
       "5     NaN\n",
       "6       V\n",
       "7       C\n",
       "8       C\n",
       "9       V\n",
       "10      C\n",
       "11      C\n",
       "12      C\n",
       "13      C\n",
       "14      C\n",
       "15      C\n",
       "16      C\n",
       "Name: Complimentation Group, dtype: object"
      ]
     },
     "execution_count": 43,
     "metadata": {},
     "output_type": "execute_result"
    }
   ],
   "source": [
    "xp_combine['Complimentation Group']"
   ]
  },
  {
   "cell_type": "code",
   "execution_count": 53,
   "metadata": {},
   "outputs": [],
   "source": [
    "xp_combine['Complimentation Group']= xp_combine['Complimentation Group'].fillna('Unknown') # Replace NaN values with 'Unkown' because the complimentation groups of these patients is actually unkonwn"
   ]
  },
  {
   "cell_type": "code",
   "execution_count": 98,
   "metadata": {},
   "outputs": [],
   "source": [
    "xp_combine['Number of Nodules'] = xp_combine['Number of Nodules'].astype('int')"
   ]
  },
  {
   "cell_type": "code",
   "execution_count": 103,
   "metadata": {},
   "outputs": [
    {
     "data": {
      "text/plain": [
       "dtype('int32')"
      ]
     },
     "execution_count": 103,
     "metadata": {},
     "output_type": "execute_result"
    }
   ],
   "source": [
    "xp_combine['Number of Nodules'].dtypes"
   ]
  },
  {
   "cell_type": "code",
   "execution_count": 131,
   "metadata": {},
   "outputs": [],
   "source": [
    "xvalues =xp_combine['Age (yrs)- At time of diagnosis'].values"
   ]
  },
  {
   "cell_type": "code",
   "execution_count": 133,
   "metadata": {},
   "outputs": [],
   "source": [
    "xvalues= xvalues.astype('int')"
   ]
  },
  {
   "cell_type": "code",
   "execution_count": 135,
   "metadata": {},
   "outputs": [
    {
     "data": {
      "text/plain": [
       "array([27, 22, 25, 20, 15, 49, 72, 25, 16, 43, 19, 22, 17, 12, 33, 37, 27])"
      ]
     },
     "execution_count": 135,
     "metadata": {},
     "output_type": "execute_result"
    }
   ],
   "source": [
    "xvalues"
   ]
  },
  {
   "cell_type": "code",
   "execution_count": 138,
   "metadata": {},
   "outputs": [
    {
     "data": {
      "text/plain": [
       "[<matplotlib.axis.YTick at 0x15cf02ad470>,\n",
       " <matplotlib.axis.YTick at 0x15cf02a6e80>,\n",
       " <matplotlib.axis.YTick at 0x15cf029dd30>,\n",
       " <matplotlib.axis.YTick at 0x15cf03c86d8>]"
      ]
     },
     "execution_count": 138,
     "metadata": {},
     "output_type": "execute_result"
    },
    {
     "data": {
      "image/png": "[encoded data removed]",
      "text/plain": [
       "<Figure size 432x288 with 1 Axes>"
      ]
     },
     "metadata": {},
     "output_type": "display_data"
    }
   ],
   "source": [
    "ax = sns.barplot(x=\"Age (yrs)- At time of diagnosis\", y=\"Number of Nodules\", hue='Complimentation Group', data=xp_combine)\n",
    "ax.set_yticks([1,2,3,4]) "
   ]
  },
  {
   "cell_type": "code",
   "execution_count": null,
   "metadata": {},
   "outputs": [],
   "source": []
  }
 ],
 "metadata": {
  "kernelspec": {
   "display_name": "Python 3",
   "language": "python",
   "name": "python3"
  },
  "language_info": {
   "codemirror_mode": {
    "name": "ipython",
    "version": 3
   },
   "file_extension": ".py",
   "mimetype": "text/x-python",
   "name": "python",
   "nbconvert_exporter": "python",
   "pygments_lexer": "ipython3",
   "version": "3.7.3"
  }
 },
 "nbformat": 4,
 "nbformat_minor": 4
}
